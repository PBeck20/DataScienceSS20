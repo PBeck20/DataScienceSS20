{
  "nbformat": 4,
  "nbformat_minor": 0,
  "metadata": {
    "kernelspec": {
      "display_name": "Python 3",
      "language": "python",
      "name": "python3"
    },
    "language_info": {
      "codemirror_mode": {
        "name": "ipython",
        "version": 3
      },
      "file_extension": ".py",
      "mimetype": "text/x-python",
      "name": "python",
      "nbconvert_exporter": "python",
      "pygments_lexer": "ipython3",
      "version": "3.7.6"
    },
    "colab": {
      "name": "1_a_Python.ipynb",
      "provenance": []
    }
  },
  "cells": [
    {
      "cell_type": "markdown",
      "metadata": {
        "id": "9Jiy_CIJoYfo",
        "colab_type": "text"
      },
      "source": [
        "# Exercise I: Your own Python module "
      ]
    },
    {
      "cell_type": "code",
      "metadata": {
        "id": "XfV0lUdWoYfr",
        "colab_type": "code",
        "colab": {
          "base_uri": "https://localhost:8080/",
          "height": 146
        },
        "outputId": "948a7426-ca15-40c1-f37e-f5959f79ea35"
      },
      "source": [
        "#check if notebook runs in colab\n",
        "import sys\n",
        "IN_COLAB = 'google.colab' in sys.modules\n",
        "print('running in Colab:',IN_COLAB)\n",
        "path='..'\n",
        "if IN_COLAB:\n",
        "  #in colab, we need to clone the data from the repo\n",
        "  !git clone https://github.com/PBeck20/DataScienceSS20.git\n",
        "  path='DataScienceSS20'\n",
        "  import sys\n",
        "  sys.path.append(path+'/Exercises/')"
      ],
      "execution_count": 6,
      "outputs": [
        {
          "output_type": "stream",
          "text": [
            "running in Colab: True\n",
            "Cloning into 'DataScienceSS20'...\n",
            "remote: Enumerating objects: 420, done.\u001b[K\n",
            "remote: Total 420 (delta 0), reused 0 (delta 0), pack-reused 420\u001b[K\n",
            "Receiving objects: 100% (420/420), 99.50 MiB | 23.35 MiB/s, done.\n",
            "Resolving deltas: 100% (154/154), done.\n",
            "Checking out files: 100% (180/180), done.\n"
          ],
          "name": "stdout"
        }
      ]
    },
    {
      "cell_type": "markdown",
      "metadata": {
        "id": "J6lNdm4soYf7",
        "colab_type": "text"
      },
      "source": [
        "Write your own python module (choose a name) with the following properties:\n",
        "\n",
        "1. start new python file for the module\n",
        "2. define a class ***ListKeeper*** with the following properties and API:\n",
        "   1. ***Listkeeper*** strores named lists (hint: use dictionaries) \n",
        "   2. it initializes with a list named *example*: [1,2,3,4,5]\n",
        "   3. ``show()`` returns all list names\n",
        "   4. ``add(name, list)`` adds a new list\n",
        "   5. ``delete(name)`` deletes list\n",
        "   6. ``sort(name)`` returns the sorted list *name*\n",
        "   7. ``append(name, list)`` appends *list* to *name* \n",
        "3. add comments and documentation to your class\n",
        "4. Import your module in this notebook\n",
        "5. write tests to check the functionality of your class "
      ]
    },
    {
      "cell_type": "code",
      "metadata": {
        "id": "CORbd8pHoYgA",
        "colab_type": "code",
        "colab": {
          "base_uri": "https://localhost:8080/",
          "height": 54
        },
        "outputId": "a34f5ac0-61be-4b39-9077-19920bb3e8e5"
      },
      "source": [
        "%load_ext autoreload\n",
        "%autoreload 2\n"
      ],
      "execution_count": 9,
      "outputs": [
        {
          "output_type": "stream",
          "text": [
            "The autoreload extension is already loaded. To reload it, use:\n",
            "  %reload_ext autoreload\n"
          ],
          "name": "stdout"
        }
      ]
    },
    {
      "cell_type": "code",
      "metadata": {
        "id": "b-hCIwNSpzdu",
        "colab_type": "code",
        "colab": {}
      },
      "source": [
        "import MySuperModule as msm"
      ],
      "execution_count": 0,
      "outputs": []
    },
    {
      "cell_type": "code",
      "metadata": {
        "id": "LHvo_vZsp72F",
        "colab_type": "code",
        "colab": {}
      },
      "source": [
        "LK = msm.ListKeeper()\n"
      ],
      "execution_count": 0,
      "outputs": []
    },
    {
      "cell_type": "code",
      "metadata": {
        "id": "gLhfYL5Pqw_O",
        "colab_type": "code",
        "colab": {
          "base_uri": "https://localhost:8080/",
          "height": 35
        },
        "outputId": "af6aeaaf-017c-419e-d6f9-15022639d7c8"
      },
      "source": [
        "LK.show()"
      ],
      "execution_count": 20,
      "outputs": [
        {
          "output_type": "execute_result",
          "data": {
            "text/plain": [
              "dict_keys(['example'])"
            ]
          },
          "metadata": {
            "tags": []
          },
          "execution_count": 20
        }
      ]
    }
  ]
}